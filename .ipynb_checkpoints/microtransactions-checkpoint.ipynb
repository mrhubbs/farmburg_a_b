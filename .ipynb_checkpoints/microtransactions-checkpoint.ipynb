{
 "cells": [
  {
   "cell_type": "markdown",
   "metadata": {},
   "source": [
    "# Project: Hypothesis Testing for Microtransactions\n",
    "Brian is a Product Manager at FarmBurg, a company that makes a farming simulation social network game.  In the FarmBurg game, you can plow, plant, and harvest different crops.\n",
    "\n",
    "Today, you will be acting as Brian's data analyst for an A/B Test that he has been conducting."
   ]
  },
  {
   "cell_type": "markdown",
   "metadata": {},
   "source": [
    "## Part 1: Testing for Significant Difference"
   ]
  },
  {
   "cell_type": "markdown",
   "metadata": {},
   "source": [
    "Start by importing the following modules that you'll need for this project:\n",
    "- `pandas` as `pd`"
   ]
  },
  {
   "cell_type": "code",
   "execution_count": 5,
   "metadata": {},
   "outputs": [],
   "source": [
    "import pandas as pd"
   ]
  },
  {
   "cell_type": "markdown",
   "metadata": {},
   "source": [
    "Brian tells you that he ran an A/B test with three different groups: A, B, and C.  You're kind of busy today, so you don't ask too many questions about the differences between A, B, and C.  Maybe they were shown three different versions of an ad.  Who cares?\n",
    "\n",
    "(HINT: you will care later)\n",
    "\n",
    "Brian gives you a CSV of results called `clicks.csv`.  It has the following columns:\n",
    "- `user_id`: a unique id for each visitor to the FarmBerg site\n",
    "- `ab_test_group`: either `A`, `B`, or `C` depending on which group the visitor was assigned to\n",
    "- `click_day`: only filled in *if* the user clicked on a link to purchase\n",
    "\n",
    "Load `clicks.csv` into the variable `df`."
   ]
  },
  {
   "cell_type": "code",
   "execution_count": 5,
   "metadata": {},
   "outputs": [],
   "source": [
    "# import is not carrying-over from previous cell, why?\n",
    "import pandas as pd\n",
    "\n",
    "# I've had no exposure to `pandas`. The instructions below presume the CSV\n",
    "# file has been loaded into some sort of data structure. It seems to have\n",
    "# methods associated with it so it's not just the `csv` module's `DictReader`,\n",
    "# or something like it.\n",
    "#\n",
    "# I Googled something like \"pandas groupby\" and found the documentation for\n",
    "# the `DataFrame` class. Its abilities fit the usage below. (Also the\n",
    "# variable name \"df\" seems to be a hint.) While reading the guide on \n",
    "# DataFrames I found pandas' `read_csv` function. I realized I could\n",
    "# use that instead of using the `DictReader` and creating a DataFrame from\n",
    "# that.\n",
    "df = pd.read_csv('clicks.csv')"
   ]
  },
  {
   "cell_type": "markdown",
   "metadata": {},
   "source": [
    "Define a new column called `is_purchase` which is `Purchase` if `click_day` is not `None` and `No Purchase` if `click_day` is `None`.  This will tell us if each visitor clicked on the Purchase link."
   ]
  },
  {
   "cell_type": "code",
   "execution_count": 57,
   "metadata": {},
   "outputs": [
    {
     "name": "stdout",
     "output_type": "stream",
     "text": [
      "                                   user_id group  click_day  is_purchase\n",
      "0     8e27bf9a-5b6e-41ed-801a-a59979c0ca98     A        NaN  No Purchase\n",
      "1     eb89e6f0-e682-4f79-99b1-161cc1c096f1     A        NaN  No Purchase\n",
      "2     7119106a-7a95-417b-8c4c-092c12ee5ef7     A        NaN  No Purchase\n",
      "3     e53781ff-ff7a-4fcd-af1a-adba02b2b954     A        NaN  No Purchase\n",
      "4     02d48cf1-1ae6-40b3-9d8b-8208884a0904     A   Saturday      Purchse\n",
      "5     5a3ca2d6-25d5-4909-8f07-519f71ee55e8     A        NaN  No Purchase\n",
      "6     6b929341-1336-4c34-965b-92e368ab160b     A        NaN  No Purchase\n",
      "7     90b0a07b-e20e-4e0a-872e-5cc303c5676b     A        NaN  No Purchase\n",
      "8     4b16c922-b2ab-48a8-885c-713ebf0ae159     A        NaN  No Purchase\n",
      "9     5eb5fc03-fbda-4149-b909-4f5fbc6b152f     A        NaN  No Purchase\n",
      "10    389ff492-4635-4535-8e42-685f771fccb1     A        NaN  No Purchase\n",
      "11    1d25885b-56c7-4fdd-bee8-6348c1386bf0     A   Thursday      Purchse\n",
      "12    4546807b-8211-4e7b-94cf-4f9c879e284b     A        NaN  No Purchase\n",
      "13    c447f7f4-a419-41c6-af31-0a17f7943816     A        NaN  No Purchase\n",
      "14    e75754d9-9342-4f1f-84e1-75c340ef78b2     A        NaN  No Purchase\n",
      "15    0d38042c-2296-4526-b21c-6b00805688d4     A     Friday      Purchse\n",
      "16    a54eeb29-1406-4032-bc2c-7d8166e4641a     A        NaN  No Purchase\n",
      "17    b54a48e0-ae75-44db-8421-d40cfa5cc3a7     A        NaN  No Purchase\n",
      "18    1a2ad0c4-3cb0-4346-9f77-6e42082a7433     A  Wednesday      Purchse\n",
      "19    512ab2bb-0c2e-46a1-9f34-40b3d2ecee1a     A        NaN  No Purchase\n",
      "20    43d00167-768d-4488-ba32-650c8ab05a06     A        NaN  No Purchase\n",
      "21    0d28dceb-c377-40f1-a238-a0ef1c525dd4     A    Tuesday      Purchse\n",
      "22    e66d263e-6746-4489-8ef6-8ab32c09a8c6     A        NaN  No Purchase\n",
      "23    5a795c56-8047-4546-a00c-2fa5fae5474e     A        NaN  No Purchase\n",
      "24    1cd795a0-c6a3-489d-ba09-7ad9b6d90a98     A   Thursday      Purchse\n",
      "25    8e65d46a-a61d-465c-b2a7-c534bec6219b     A        NaN  No Purchase\n",
      "26    d2d00ec5-48ac-4813-9b03-cc6da1354bd7     A        NaN  No Purchase\n",
      "27    02f09387-0949-489e-bc49-508e4ae5a0be     A     Monday      Purchse\n",
      "28    e395b3fb-46af-4e1c-b8d4-a1c4f490b46e     A        NaN  No Purchase\n",
      "29    c9499054-f8ac-4973-869f-14704694a1a9     A        NaN  No Purchase\n",
      "...                                    ...   ...        ...          ...\n",
      "4968  563462e3-f22c-453d-a645-b1cf37ac0316     C        NaN  No Purchase\n",
      "4969  25d3b1df-8580-4533-947d-66ba9cba20c0     C        NaN  No Purchase\n",
      "4970  ebd8e192-0a13-49df-a4c4-b9c482f48e6f     C        NaN  No Purchase\n",
      "4971  945d3c4a-b624-45a7-b5de-81a7088d6b74     C        NaN  No Purchase\n",
      "4972  a5073a0b-8251-4f45-92fb-97c2bc9a053f     C        NaN  No Purchase\n",
      "4973  2c786780-b7e2-45df-9a0c-1938c484f328     C        NaN  No Purchase\n",
      "4974  cf624881-75f8-438f-88a8-43ba537bfe3b     C        NaN  No Purchase\n",
      "4975  9a16d458-e196-4d8c-8060-bc79d7336553     C        NaN  No Purchase\n",
      "4976  b9b920ac-9a88-47c6-8882-00cca3ee40b1     C        NaN  No Purchase\n",
      "4977  b2eaae1d-2505-47b9-a24a-23f6c63f93a6     C        NaN  No Purchase\n",
      "4978  71b32b6b-cb84-42ae-8062-ca0722bcfd0a     C        NaN  No Purchase\n",
      "4979  bce930f6-e65c-4c5e-98b8-6fc78ddf3e87     C        NaN  No Purchase\n",
      "4980  3df3ebd6-14ca-4132-98a6-68b226d3c2e5     C        NaN  No Purchase\n",
      "4981  1d673f80-c1c5-46e0-bc52-5dd8a133147d     C        NaN  No Purchase\n",
      "4982  7da81a79-5a41-4e98-92ba-f00637b58bcc     C        NaN  No Purchase\n",
      "4983  bd00f045-7f1c-4b56-8515-d574b6958898     C        NaN  No Purchase\n",
      "4984  4970134b-b71d-4e0f-87ff-7dc2827183ed     C        NaN  No Purchase\n",
      "4985  f1cf55e6-3baa-49ea-8465-1d713e707e03     C        NaN  No Purchase\n",
      "4986  b8c43823-b5a6-445d-879f-990f2cf647f5     C        NaN  No Purchase\n",
      "4987  8ef57a7e-2f04-4b04-9082-f16b929cabec     C        NaN  No Purchase\n",
      "4988  ff2fb6ed-e14e-430f-bc0e-4d0fb15c142c     C        NaN  No Purchase\n",
      "4989  0277cd1b-fa11-498a-94e5-ce8184eafc63     C     Monday      Purchse\n",
      "4990  be6899b2-4d90-4145-8803-66ed2cd3a758     C        NaN  No Purchase\n",
      "4991  67e5ac93-6039-4fc6-9417-1af997e9ade7     C        NaN  No Purchase\n",
      "4992  68335145-ad33-4dec-bde8-b3fd4511d76c     C        NaN  No Purchase\n",
      "4993  1f6fd5aa-f664-4e7a-aa97-112572085691     C        NaN  No Purchase\n",
      "4994  ad76e16a-b28f-4eab-9271-cb505e50fbcf     C        NaN  No Purchase\n",
      "4995  c9254ed4-e47f-4c31-b541-67afb66ce273     C        NaN  No Purchase\n",
      "4996  e734362b-42b9-4ec5-81e9-3b7ab326478e     C        NaN  No Purchase\n",
      "4997  36b4f7d6-a150-4db0-a34b-82afe767b584     C        NaN  No Purchase\n",
      "\n",
      "[4998 rows x 4 columns]\n"
     ]
    }
   ],
   "source": [
    "import math\n",
    "\n",
    "# The most straight-forward way to create the new column would be something like this:\n",
    "# (using the `assign` method of DataFrames)\n",
    "#\n",
    "# import math\n",
    "# df = df.assign(is_purchase = lambda x: 'No Purchase' if math.isnan(x['click_day']) else 'Purchase')\n",
    "#\n",
    "# NOTE: when missing, the rows in the click_day column are coming through as NaN, instead of as None\n",
    "# like the instructions say.\n",
    "#\n",
    "# However, that would be attempting to check if the entire click_day Series is NaN, which obviously\n",
    "# doesn't work. I tried using numpy's `isnan` but that did't like the pandas.Series as an input.\n",
    "# I tried converting the Series to a numpy array and a list but those also didn't work. According\n",
    "# to these docs: https://docs.scipy.org/doc/numpy-1.14.0/reference/generated/numpy.isnan.html\n",
    "# I would expect them to.\n",
    "#\n",
    "# Instead, I'm just going to create a new column with a list.\n",
    "#\n",
    "\n",
    "is_purchase = ['No Purchase' if type(x) == float and math.isnan(x) else 'Purchse' for x in df['click_day']]\n",
    "df.is_purchase = is_purchase\n",
    "\n",
    "# print(df)\n",
    "# examing the output shows that that worked"
   ]
  },
  {
   "cell_type": "markdown",
   "metadata": {
    "collapsed": true
   },
   "source": [
    "We want to count the number of users who made a purchase from each group.  Use `groupby` to count the number of `Purchase` and `No Purchase` from each `group`.  Save your answer to the variable `purchase_counts`.\n",
    "\n",
    "**Hint**: Group by `group` and `is_purchase` and the function `count` on the column `user_id`."
   ]
  },
  {
   "cell_type": "code",
   "execution_count": 78,
   "metadata": {},
   "outputs": [
    {
     "name": "stdout",
     "output_type": "stream",
     "text": [
      "group  is_purchase\n",
      "A      No Purchase    1350\n",
      "       Purchse         316\n",
      "B      No Purchase    1483\n",
      "       Purchse         183\n",
      "C      No Purchase    1583\n",
      "       Purchse          83\n",
      "Name: user_id, dtype: int64\n"
     ]
    }
   ],
   "source": [
    "# following the examples here: https://pandas.pydata.org/pandas-docs/stable/generated/pandas.DataFrame.groupby.html\n",
    "purchase_counts = df.groupby(['group', 'is_purchase'])['user_id'].count()\n",
    "print(purchase_counts)\n",
    "\n",
    "# okay, that worked, but how do we acces the data directly?\n",
    "# print(purchase_counts['A'][0])  # okay, that's the \"No Purchase\" for group A\n",
    "# print(purchase_counts['A'][1])  # okay, that's the \"Purchase\" for group A"
   ]
  },
  {
   "cell_type": "markdown",
   "metadata": {
    "collapsed": true
   },
   "source": [
    "This data is *categorical* and there are *more than 2* conditions, so we'll want to use a chi-squared test to see if there is a significant difference between the three conditions.\n",
    "\n",
    "Start by filling in the contingency table below with the correct values:\n",
    "```py\n",
    "contingency = [[groupA_purchases, groupA_not_purchases],\n",
    "               [groupB_purchases, groupB_not_purchases],\n",
    "               [groupC_purchases, groupC_not_purchases]]\n",
    "```"
   ]
  },
  {
   "cell_type": "code",
   "execution_count": 82,
   "metadata": {},
   "outputs": [
    {
     "name": "stdout",
     "output_type": "stream",
     "text": [
      "[[316, 1350], [183, 1483], [83, 1583]]\n"
     ]
    }
   ],
   "source": [
    "pc = purchase_counts\n",
    "\n",
    "gA_purch    = pc['A'][1]\n",
    "gA_no_purch = pc['A'][0]\n",
    "gB_purch    = pc['B'][1]\n",
    "gB_no_purch = pc['B'][0]\n",
    "gC_purch    = pc['C'][1]\n",
    "gC_no_purch = pc['C'][0]\n",
    "\n",
    "contingency = [[gA_purch, gA_no_purch],\n",
    "               [gB_purch, gB_no_purch],\n",
    "               [gC_purch, gC_no_purch]]\n",
    "\n",
    "# is that set up correctly?\n",
    "print(contingency)\n",
    "# yes..."
   ]
  },
  {
   "cell_type": "markdown",
   "metadata": {},
   "source": [
    "Now import the function `chi2_contingency` from `scipy.stats` and perform the chi-squared test.\n",
    "\n",
    "Recall that the *p-value* is the second output of `chi2_contingency`."
   ]
  },
  {
   "cell_type": "code",
   "execution_count": 45,
   "metadata": {},
   "outputs": [],
   "source": [
    "from scipy.stats import chi2_contingency"
   ]
  },
  {
   "cell_type": "code",
   "execution_count": 93,
   "metadata": {},
   "outputs": [
    {
     "name": "stdout",
     "output_type": "stream",
     "text": [
      "(159.41952879874498, 2.4126213546684264e-35, 2, array([[ 194., 1472.],\n",
      "       [ 194., 1472.],\n",
      "       [ 194., 1472.]]))\n",
      "2.4126213546684264e-35\n"
     ]
    }
   ],
   "source": [
    "# same problem, import only effective for the cell it's in...\n",
    "from scipy.stats import chi2_contingency\n",
    "\n",
    "cont_results = chi2_contingency(contingency)\n",
    "p = cont_results[1]\n",
    "\n",
    "print(cont_results)\n",
    "print(p)\n",
    "\n",
    "# hmm.. what do those results mean?\n",
    "# I\"m not well-versed in the statistics math referenced here: \n",
    "# https://docs.scipy.org/doc/scipy-0.15.1/reference/generated/scipy.stats.chi2_contingency.html\n",
    "# but I can see that the p-value is very small and, according to this: \n",
    "# http://www.dummies.com/education/math/statistics/what-a-p-value-tells-you-about-statistical-data/\n",
    "# a small value indicates the null hypothesis was false and the alternative hypothesis true.\n",
    "#\n",
    "# I presume we set up the contingency table such that our alternative hypothesis was that\n",
    "# most of the purchases came from Group A.\n"
   ]
  },
  {
   "cell_type": "markdown",
   "metadata": {},
   "source": [
    "Great! It looks like a significantly greater portion of users from Group A made a purchase."
   ]
  },
  {
   "cell_type": "markdown",
   "metadata": {},
   "source": [
    "## Part 2: Testing for Exceeding a Goal\n",
    "\n",
    "Your day is a little less busy than you expected, so you decide to ask Brian about his test.\n",
    "\n",
    "**You**: Hey Brian! What was that test you were running anyway?\n",
    "\n",
    "**Brian**: It was awesome! We are trying to get users to purchase a small FarmBurg upgrade package.  It's called a microtransaction.  We're not sure how much to charge for it, so we tested three different price points: \\$0.99, \\$1.99, and \\$4.99.  It looks like significantly more people bought the upgrade package for \\$0.99, so I guess that's what we'll charge.\n",
    "\n",
    "**You**: Oh no! I should have asked you this before we did that chi-squared test.  I don't think that this was the right test at all.  It's true that more people wanted purchase the upgrade at \\$0.99; you probably expected that.  What we really want to know is if each price point allows us to make enough money that we can exceed some target goal.  Brian, how much do you think it cost to build this feature?\n",
    "\n",
    "**Brian**: Hmm.  I guess that we need to generate a minimum of $1000 per week in order to justify this project.\n",
    "\n",
    "**You**: We have some work to do!"
   ]
  },
  {
   "cell_type": "markdown",
   "metadata": {},
   "source": [
    "How many visitors came to the site this week?\n",
    "\n",
    "Hint: Look at the length of `df`."
   ]
  },
  {
   "cell_type": "code",
   "execution_count": 109,
   "metadata": {},
   "outputs": [
    {
     "name": "stdout",
     "output_type": "stream",
     "text": [
      "4998\n"
     ]
    }
   ],
   "source": [
    "num_visitors_each_week = df.shape[0]  # recommended on Stack Overflow because df.count ignores null values\n",
    "print(num_visitors_each_week)"
   ]
  },
  {
   "cell_type": "markdown",
   "metadata": {},
   "source": [
    "Let's assume that this is how many visitors we generally get each week.  Given that, calculate the percent of visitors who would need to purchase the upgrade package at each price point (\\$0.99, \\$1.99, \\$4.99) in order to generate \\$1000 per week."
   ]
  },
  {
   "cell_type": "code",
   "execution_count": 120,
   "metadata": {},
   "outputs": [
    {
     "name": "stdout",
     "output_type": "stream",
     "text": [
      "20.2%\n"
     ]
    }
   ],
   "source": [
    "# Calculate the number of people who would need to purchase a $0.99 upgrade in order to generate $1000.\n",
    "# Then divide by the number of people who visit the site each week.\n",
    "\n",
    "project_min_each_week = 1000.\n",
    "\n",
    "# the equations would look like this according to the instructions above.\n",
    "# $1000 = $0.99 * x\n",
    "# solve for x\n",
    "# x = $1000 / $0.99\n",
    "# y = x / num_visitors_each_week\n",
    "\n",
    "percent_for_0_99 = project_min_each_week / 0.99 / num_visitors_each_week\n",
    "print(\"{:.3}%\".format(percent_for_0_99 * 100))"
   ]
  },
  {
   "cell_type": "code",
   "execution_count": 121,
   "metadata": {},
   "outputs": [
    {
     "name": "stdout",
     "output_type": "stream",
     "text": [
      "10.1%\n"
     ]
    }
   ],
   "source": [
    "# Calculate the number of people who would need to purchase a $1.99 upgrade in order to generate $1000.\n",
    "# Then divide by the number of people who visit the site each week.\n",
    "\n",
    "percent_for_1_99 = project_min_each_week / 1.99 / num_visitors_each_week\n",
    "print(\"{:.3}%\".format(percent_for_1_99 * 100))"
   ]
  },
  {
   "cell_type": "code",
   "execution_count": 123,
   "metadata": {},
   "outputs": [
    {
     "name": "stdout",
     "output_type": "stream",
     "text": [
      "4.01%\n"
     ]
    }
   ],
   "source": [
    "# Calculate the number of people who would need to purchase a -$1.99-, $4.99? upgrade in order to generate $1000.\n",
    "# Then divide by the number of people who visit the site each week.\n",
    "\n",
    "percent_for_4_99 = project_min_each_week / 4.99 / num_visitors_each_week\n",
    "print(\"{:.3}%\".format(percent_for_4_99 * 100))"
   ]
  },
  {
   "cell_type": "markdown",
   "metadata": {},
   "source": [
    "Note that you need a smaller percentage of purchases for higher price points.\n",
    "\n",
    "Now, for each group, perform a binomial test using `binom_test` from `scipy.stats`.\n",
    "- `x` will be the number of purchases for that group\n",
    "- `n` will be the total number of visitors assigned to that group\n",
    "- `p` will be the target percent of purchases for that price point (calculated above)\n",
    "\n",
    "Recall that:\n",
    "- Group `A` is the \\$0.99 price point\n",
    "- Group `B` is the \\$1.99 price point\n",
    "- Group `C` is the \\$4.99 price point"
   ]
  },
  {
   "cell_type": "code",
   "execution_count": 39,
   "metadata": {},
   "outputs": [],
   "source": [
    "# import the binomial test from scipy.stats here\n",
    "from scipy.stats import binom_test"
   ]
  },
  {
   "cell_type": "code",
   "execution_count": 136,
   "metadata": {},
   "outputs": [
    {
     "name": "stdout",
     "output_type": "stream",
     "text": [
      "False 0.21\n"
     ]
    }
   ],
   "source": [
    "# Test group A here\n",
    "from scipy.stats import binom_test\n",
    "\n",
    "p_A = binom_test(gA_purch, gA_purch + gA_no_purch, percent_for_0_99)\n",
    "# print the passed value first for easy visual scanning (the reader\n",
    "# is thinking \"did it pass, yes/no?\") and then the actual value for\n",
    "# more information.\n",
    "print(p_A < 0.05, \"{:.2}\".format(p_A))"
   ]
  },
  {
   "cell_type": "code",
   "execution_count": 134,
   "metadata": {},
   "outputs": [
    {
     "name": "stdout",
     "output_type": "stream",
     "text": [
      "False 0.21\n"
     ]
    }
   ],
   "source": [
    "# Test group A here\n",
    "from scipy.stats import binom_test\n",
    "\n",
    "p_B = binom_test(gB_purch, gB_purch + gB_no_purch, percent_for_1_99)\n",
    "print(p_B < 0.05, \"{:.2}\".format(p_B))"
   ]
  },
  {
   "cell_type": "code",
   "execution_count": 135,
   "metadata": {},
   "outputs": [
    {
     "name": "stdout",
     "output_type": "stream",
     "text": [
      "True 0.046\n"
     ]
    }
   ],
   "source": [
    "# Test group C here\n",
    "from scipy.stats import binom_test\n",
    "\n",
    "p_C = binom_test(gC_purch, gC_purch + gC_no_purch, percent_for_4_99)\n",
    "print(p_C < 0.05, \"{:.2}\".format(p_C))"
   ]
  },
  {
   "cell_type": "markdown",
   "metadata": {},
   "source": [
    "If any of the groups passed the binomial test with $p < 0.05$, then we can be confident that enough people will buy the upgrade package at that price point to justify the feature.\n",
    "\n",
    "Which price point should Brian go with?  Did this surprise you?"
   ]
  },
  {
   "cell_type": "markdown",
   "metadata": {},
   "source": [
    "Brian should go with the $4.99 price point. It is the only one that will generate enough revenue to sustain the project. This is counter-intuitive and surprising at first, because the obvious (and true) assumption is that fewer people will buy the more expensive package. However, what this exercise shows is that you have to consider the trade-off between fewer purchases and more money per-purchase. It's not necessarily going to be a linear relationship.\n",
    "\n",
    "It's a good thing we analyzed the results according to what he was actually looking for!"
   ]
  }
 ],
 "metadata": {
  "kernelspec": {
   "display_name": "Python 3",
   "language": "python",
   "name": "python3"
  },
  "language_info": {
   "codemirror_mode": {
    "name": "ipython",
    "version": 3
   },
   "file_extension": ".py",
   "mimetype": "text/x-python",
   "name": "python",
   "nbconvert_exporter": "python",
   "pygments_lexer": "ipython3",
   "version": "3.6.5"
  }
 },
 "nbformat": 4,
 "nbformat_minor": 2
}
